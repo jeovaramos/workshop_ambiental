{
 "cells": [
  {
   "cell_type": "markdown",
   "metadata": {},
   "source": [
    "# 0.0 Imports"
   ]
  },
  {
   "cell_type": "code",
   "execution_count": null,
   "metadata": {},
   "outputs": [],
   "source": [
    "from sklearn import linear_model\n",
    "from sklearn import metrics\n",
    "import mlflow\n",
    "import pandas as pd\n",
    "import plotly.express as px"
   ]
  },
  {
   "cell_type": "markdown",
   "metadata": {},
   "source": [
    "# 1.0 Load dataset"
   ]
  },
  {
   "cell_type": "code",
   "execution_count": null,
   "metadata": {},
   "outputs": [],
   "source": [
    "df = pd.read_csv(\"data/estudante_escola.csv\")\n",
    "assert df.isna().sum().sum() == 0\n",
    "\n",
    "df.info()"
   ]
  },
  {
   "cell_type": "markdown",
   "metadata": {},
   "source": [
    "## 1.1. Convert columns"
   ]
  },
  {
   "cell_type": "code",
   "execution_count": null,
   "metadata": {},
   "outputs": [],
   "source": [
    "df[\"estudante\"] = df[\"estudante\"].astype(str)\n",
    "df[\"escola\"] = df[\"escola\"].astype(str)\n",
    "df.dtypes"
   ]
  },
  {
   "cell_type": "markdown",
   "metadata": {},
   "source": [
    "# 2.0 Feature engineering"
   ]
  },
  {
   "cell_type": "code",
   "execution_count": null,
   "metadata": {},
   "outputs": [],
   "source": [
    "df.drop([\"estudante\", \"escola\"], axis=1).corr().style.background_gradient(\n",
    "    cmap=\"coolwarm\"\n",
    ")"
   ]
  },
  {
   "cell_type": "markdown",
   "metadata": {},
   "source": [
    "# 3.0 Training"
   ]
  },
  {
   "cell_type": "markdown",
   "metadata": {},
   "source": [
    "## 3.1. Connect to MLFlow"
   ]
  },
  {
   "cell_type": "code",
   "execution_count": null,
   "metadata": {},
   "outputs": [],
   "source": [
    "# Connecting\n",
    "mlflow_uri = \"http://127.0.0.1:8005/\"\n",
    "mlflow.set_tracking_uri(mlflow_uri)\n",
    "\n",
    "# Create/set experiment\n",
    "experiment_name = \"workshop_ambiental\"\n",
    "experiment = mlflow.set_experiment(experiment_name)"
   ]
  },
  {
   "cell_type": "code",
   "execution_count": null,
   "metadata": {},
   "outputs": [],
   "source": [
    "df.columns"
   ]
  },
  {
   "cell_type": "markdown",
   "metadata": {},
   "source": [
    "## 3.2. Simple training"
   ]
  },
  {
   "cell_type": "code",
   "execution_count": null,
   "metadata": {},
   "outputs": [],
   "source": [
    "y_column = [\"desempenho\"]\n",
    "X_columns = [\"texp\", \"horas\"]\n",
    "\n",
    "y_variable = df[y_column]\n",
    "X_variables = df[X_columns]\n",
    "\n",
    "# Training\n",
    "lr_model = linear_model.LinearRegression()\n",
    "lr_model.fit(X=X_variables, y=y_variable)\n",
    "\n",
    "# Evaluating\n",
    "df[\"predict\"] = lr_model.predict(X_variables)\n",
    "y_pred = df[\"predict\"]\n",
    "\n",
    "## Metrics\n",
    "explained_variance = metrics.explained_variance_score(y_variable, y_pred)\n",
    "mse = metrics.mean_absolute_error(y_variable, y_pred)\n",
    "r2 = metrics.r2_score(y_variable, y_pred)\n",
    "\n",
    "print(\"expained variance:\", explained_variance)\n",
    "print(\"MSE:\", mse)\n",
    "print(\"R2:\", r2)\n",
    "\n",
    "# Visualization\n",
    "px.scatter(\n",
    "    df, y_column, \"predict\", \"escola\", title=f\"y ~ {X_columns}: MSE = {mse}; R2 = {r2}\"\n",
    ")"
   ]
  },
  {
   "cell_type": "markdown",
   "metadata": {},
   "source": [
    "## 3.3. Versioning training"
   ]
  },
  {
   "cell_type": "code",
   "execution_count": null,
   "metadata": {},
   "outputs": [],
   "source": [
    "y_column = [\"desempenho\"]\n",
    "X_columns = [\"horas\"]\n",
    "\n",
    "run_name = f\"LR_only_horas\"\n",
    "with mlflow.start_run(\n",
    "    run_name=run_name,\n",
    "    experiment_id=experiment.experiment_id,\n",
    "    tags={\n",
    "        \"all_variables\": \"True\",\n",
    "    },\n",
    "    description=\"Testando o MLFlow.\",\n",
    ") as run:\n",
    "    print(\"starting training\")\n",
    "\n",
    "    # Setup variables\n",
    "    y_variable = df[y_column]\n",
    "    X_variables = df[X_columns]\n",
    "\n",
    "    # Training\n",
    "    lr_model = linear_model.LinearRegression()\n",
    "    lr_model.fit(X=X_variables, y=y_variable)\n",
    "    mlflow.sklearn.log_model(lr_model, \"lr_model\")\n",
    "\n",
    "    # Evaluating\n",
    "    df[\"predict\"] = lr_model.predict(X_variables)\n",
    "    y_pred = df[\"predict\"]\n",
    "\n",
    "    ## Calculating and logging metrics\n",
    "    model_metrics = {}\n",
    "    model_metrics[\"explained_variance\"] = metrics.explained_variance_score(\n",
    "        y_variable, y_pred\n",
    "    )\n",
    "    model_metrics[\"mse\"] = metrics.mean_absolute_error(y_variable, y_pred)\n",
    "    model_metrics[\"r2\"] = metrics.r2_score(y_variable, y_pred)\n",
    "\n",
    "    for metric, value in model_metrics.items():\n",
    "        print(f\"{metric}:\", explained_variance)\n",
    "        mlflow.log_metric(metric, value)\n",
    "\n",
    "    # Visualization\n",
    "    fig = px.scatter(\n",
    "        df,\n",
    "        y_column,\n",
    "        \"predict\",\n",
    "        \"escola\",\n",
    "        title=f\"y ~ {X_columns}: MSE = {mse}; R2 = {r2}\",\n",
    "    )\n",
    "    mlflow.log_figure(fig, \"scatter.html\")"
   ]
  },
  {
   "cell_type": "code",
   "execution_count": null,
   "metadata": {},
   "outputs": [],
   "source": []
  }
 ],
 "metadata": {
  "kernelspec": {
   "display_name": ".venv",
   "language": "python",
   "name": "python3"
  },
  "language_info": {
   "codemirror_mode": {
    "name": "ipython",
    "version": 3
   },
   "file_extension": ".py",
   "mimetype": "text/x-python",
   "name": "python",
   "nbconvert_exporter": "python",
   "pygments_lexer": "ipython3",
   "version": "3.10.8"
  }
 },
 "nbformat": 4,
 "nbformat_minor": 2
}
